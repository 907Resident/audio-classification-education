{
 "cells": [
  {
   "attachments": {},
   "cell_type": "markdown",
   "metadata": {},
   "source": [
    "# Chap 12: Parallelizing Neural Network Training with PyTorch\n",
    "\n",
    "This notebook has been created to play with and learn PyTorch using the guidance presented in chapter 12 of _Machine Learning with Scikit-Learning and PyTorch_ by Sebastian Raschka and others."
   ]
  },
  {
   "attachments": {},
   "cell_type": "markdown",
   "metadata": {},
   "source": [
    "## 0. Import Necessary Libraries and Modules"
   ]
  },
  {
   "attachments": {},
   "cell_type": "markdown",
   "metadata": {},
   "source": [
    "### 0.1 Install non-traditional packages"
   ]
  },
  {
   "cell_type": "code",
   "execution_count": null,
   "metadata": {},
   "outputs": [],
   "source": []
  },
  {
   "attachments": {},
   "cell_type": "markdown",
   "metadata": {},
   "source": [
    "### 0.2 Import packages and modules"
   ]
  },
  {
   "cell_type": "code",
   "execution_count": 84,
   "metadata": {},
   "outputs": [],
   "source": [
    "# torch // deep learning python package\n",
    "import torch\n",
    "\n",
    "# logging // logging module to write notes and errors outside of notebook\n",
    "import logging\n",
    "\n",
    "# essential python modules\n",
    "import matplotlib.pyplot as plt\n",
    "import seaborn as sns\n",
    "import pandas as pd\n",
    "import numpy as np"
   ]
  },
  {
   "attachments": {},
   "cell_type": "markdown",
   "metadata": {},
   "source": [
    "### 0.3 Establish logs"
   ]
  },
  {
   "cell_type": "code",
   "execution_count": 85,
   "metadata": {},
   "outputs": [],
   "source": [
    "!mkdir -p \"../../../output/logs/learning-pytorch-logs\"\n",
    "!touch \"../../../output/logs/learning-pytorch-logs/12_learning_pytorch_logs.log\""
   ]
  },
  {
   "cell_type": "code",
   "execution_count": null,
   "metadata": {},
   "outputs": [],
   "source": [
    "log_filename = \"../../../output/logs/learning-pytorch-logs/12_learning_pytorch_logs.log\"\n",
    "\n",
    "root_filehandler = logging.FileHandler(log_filename)\n",
    "root_formatter = logging.Formatter(\"%(asctime)s ... %(name)s ... %(levelname)s ... %(message)s\")\n",
    "root_filehandler.setFormatter(root_formatter)\n",
    "root_filehandler.setLevel(logging.DEBUG)\n",
    "\n",
    "# define a logger for the console\n",
    "console_log = logging.StreamHandler()\n",
    "console_log.setLevel(logging.WARNING)\n",
    "console_formatter = logging.Formatter(\"%(name)-16s :: %(levelname)-8s :: %(message)s\")\n",
    "console_log.setFormatter(console_formatter)\n",
    "\n",
    "# establish root log\n",
    "logging.basicConfig(\n",
    "    datefmt=\"%Y%m%d %H:%M:%S\",\n",
    "    handlers=[\n",
    "        root_filehandler,\n",
    "        console_log\n",
    "    ]\n",
    ")\n",
    "\n",
    "logger_12 = logging.getLogger(\"learning_torch__12\")\n",
    "\n",
    "logger_12.info(\n",
    "    \"Log for 12_parallelizing_nn_w_torch has been established in the console and the file\\n{}.\".format(log_filename)\n",
    ")\n",
    "\n",
    "logging.warning(\"testing warning\")"
   ]
  },
  {
   "attachments": {},
   "cell_type": "markdown",
   "metadata": {},
   "source": [
    "## 1. Import Data"
   ]
  },
  {
   "cell_type": "code",
   "execution_count": 87,
   "metadata": {},
   "outputs": [],
   "source": [
    "np.set_printoptions(precision=3)\n",
    "\n",
    "a = [1,2,3]\n",
    "b = np.array([4,5,6], dtype=np.int32)\n",
    "\n",
    "tensor_a = torch.tensor(a)\n",
    "tensor_b = torch.tensor(b)"
   ]
  },
  {
   "cell_type": "code",
   "execution_count": 88,
   "metadata": {},
   "outputs": [
    {
     "name": "stdout",
     "output_type": "stream",
     "text": [
      "tensor([1, 2, 3])\n"
     ]
    }
   ],
   "source": [
    "print(tensor_a)"
   ]
  },
  {
   "cell_type": "code",
   "execution_count": 89,
   "metadata": {},
   "outputs": [
    {
     "name": "stdout",
     "output_type": "stream",
     "text": [
      "tensor([4, 5, 6], dtype=torch.int32)\n"
     ]
    }
   ],
   "source": [
    "print(tensor_b)"
   ]
  },
  {
   "attachments": {},
   "cell_type": "markdown",
   "metadata": {},
   "source": [
    "## 2. Data Prep"
   ]
  },
  {
   "cell_type": "markdown",
   "metadata": {},
   "source": []
  }
 ],
 "metadata": {
  "kernelspec": {
   "display_name": "env-audio--torch",
   "language": "python",
   "name": "python3"
  },
  "language_info": {
   "codemirror_mode": {
    "name": "ipython",
    "version": 3
   },
   "file_extension": ".py",
   "mimetype": "text/x-python",
   "name": "python",
   "nbconvert_exporter": "python",
   "pygments_lexer": "ipython3",
   "version": "3.8.13"
  },
  "orig_nbformat": 4,
  "vscode": {
   "interpreter": {
    "hash": "74b69a8ff47bddf2d69ea2a3d79a8d541e43048979f0f3c33450cfb80ef3a4e3"
   }
  }
 },
 "nbformat": 4,
 "nbformat_minor": 2
}
