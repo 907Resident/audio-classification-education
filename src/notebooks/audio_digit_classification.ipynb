{
 "cells": [
  {
   "cell_type": "markdown",
   "metadata": {},
   "source": [
    "# Audio Classification\n",
    "\n",
    "This notebook serves as an exmaple of how to conduct an end to end audio classification model."
   ]
  },
  {
   "cell_type": "code",
   "execution_count": 157,
   "metadata": {},
   "outputs": [
    {
     "name": "stdout",
     "output_type": "stream",
     "text": [
      "This notebook is using 2.4.0-rc0 version of Tensorflow\n"
     ]
    }
   ],
   "source": [
    "# Import Necessary Modules\n",
    "\n",
    "import os\n",
    "import hub\n",
    "import wandb\n",
    "import pathlib\n",
    "\n",
    "import tensorflow_datasets as tfds\n",
    "import matplotlib.pyplot as plt \n",
    "import tensorflow as tf\n",
    "import seaborn as sns\n",
    "import pandas as pd\n",
    "import numpy as np\n",
    "\n",
    "from wandb.keras import WandbCallback\n",
    "from tensorflow.keras import models, Sequential, layers\n",
    "from IPython.display import display, Audio\n",
    "from ipywidgets import interactive\n",
    "\n",
    "seed = 0\n",
    "\n",
    "tf.random.set_seed(seed)\n",
    "np.random.seed(seed)\n",
    "\n",
    "# Preview version of Tensorflow\n",
    "print(\"This notebook is using {} version of Tensorflow\".format(tf.__version__))\n"
   ]
  },
  {
   "cell_type": "markdown",
   "metadata": {},
   "source": [
    "## 0. | Acquire Data\n",
    "\n",
    "For this classification project the data that will be used is sourced from the [Free Spoken Digit Data set (FSSD)](https://github.com/Jakobovski/free-spoken-digit-dataset). This data set provides the user with 3,000 recordings from six different speakers."
   ]
  },
  {
   "cell_type": "code",
   "execution_count": 164,
   "metadata": {},
   "outputs": [
    {
     "name": "stdout",
     "output_type": "stream",
     "text": [
      "Load pre-computed DatasetInfo (eg: splits, num examples,...) from GCS: speech_commands/0.0.2\n",
      "Load dataset info from /var/folders/p9/0q1lfs6j4kv_1cjl81bz74b40000gn/T/tmp_k7_qxwbtfds\n",
      "Field info.description from disk and from code do not match. Keeping the one from code.\n",
      "Field info.citation from disk and from code do not match. Keeping the one from code.\n",
      "Field info.splits from disk and from code do not match. Keeping the one from code.\n",
      "Field info.supervised_keys from disk and from code do not match. Keeping the one from code.\n",
      "Field info.module_name from disk and from code do not match. Keeping the one from code.\n",
      "Generating dataset speech_commands (/Users/moyoajayi/tensorflow_datasets/speech_commands/0.0.2)\n",
      "\u001b[1mDownloading and preparing dataset 2.37 GiB (download: 2.37 GiB, generated: 8.17 GiB, total: 10.53 GiB) to /Users/moyoajayi/tensorflow_datasets/speech_commands/0.0.2...\u001b[0m\n"
     ]
    },
    {
     "name": "stderr",
     "output_type": "stream",
     "text": [
      "Dl Completed...: 0 url [00:00, ? url/s]"
     ]
    },
    {
     "name": "stdout",
     "output_type": "stream",
     "text": [
      "Downloading http://download.tensorflow.org/data/speech_commands_v0.02.tar.gz into /Users/moyoajayi/tensorflow_datasets/downloads/downloa.tensorf.org_speech_command_v0.2on2wMxgCSnqce8QzXEmmpja0qys10FFJerRK-rE4AmY.tar.gz.tmp.aa1ab16724394e168129aca9c76d1358...\n"
     ]
    },
    {
     "name": "stderr",
     "output_type": "stream",
     "text": [
      "Dl Completed...:   0%|          | 0/1 [00:00<?, ? url/s]"
     ]
    },
    {
     "name": "stdout",
     "output_type": "stream",
     "text": [
      "Downloading http://download.tensorflow.org/data/speech_commands_test_set_v0.02.tar.gz into /Users/moyoajayi/tensorflow_datasets/downloads/down.tens.org_spee_comm_test_set_v0.2JgUkWz2DJFlHZadg2sHyT96ej1I6Owxad0OEL9yPsB8.tar.gz.tmp.1002d9a1316140aaa0f990c037fdea86...\n"
     ]
    },
    {
     "name": "stderr",
     "output_type": "stream",
     "text": [
      "Dl Size...: 100%|██████████| 2423/2423 [10:00<00:00,  4.04 MiB/s]\n",
      "Dl Completed...: 100%|██████████| 2/2 [10:00<00:00, 300.02s/ url]\n",
      "Generating splits...:   0%|          | 0/3 [00:00<?, ? splits/s]"
     ]
    },
    {
     "name": "stdout",
     "output_type": "stream",
     "text": [
      "Done writing /Users/moyoajayi/tensorflow_datasets/speech_commands/0.0.2.incomplete8XTDKB/speech_commands-train.tfrecord*. Number of examples: 85511 (shards: [1336, 1336, 1336, 1336, 1337, 1336, 1336, 1336, 1336, 1336, 1336, 1336, 1336, 1337, 1336, 1336, 1336, 1336, 1336, 1336, 1336, 1336, 1337, 1336, 1336, 1336, 1336, 1336, 1336, 1336, 1336, 1337, 1336, 1336, 1336, 1336, 1336, 1336, 1336, 1336, 1336, 1337, 1336, 1336, 1336, 1336, 1336, 1336, 1336, 1336, 1337, 1336, 1336, 1336, 1336, 1336, 1336, 1336, 1336, 1337, 1336, 1336, 1336, 1336])\n"
     ]
    },
    {
     "name": "stderr",
     "output_type": "stream",
     "text": [
      "Generating splits...:  33%|███▎      | 1/3 [04:21<08:43, 261.84s/ splits]"
     ]
    },
    {
     "name": "stdout",
     "output_type": "stream",
     "text": [
      "Done writing /Users/moyoajayi/tensorflow_datasets/speech_commands/0.0.2.incomplete8XTDKB/speech_commands-validation.tfrecord*. Number of examples: 10102 (shards: [1263, 1263, 1262, 1263, 1263, 1262, 1263, 1263])\n"
     ]
    },
    {
     "name": "stderr",
     "output_type": "stream",
     "text": [
      "Generating splits...:  67%|██████▋   | 2/3 [05:16<02:20, 140.21s/ splits]/Users/moyoajayi/miniforge3/envs/env-tf/lib/python3.8/site-packages/pydub/utils.py:198: RuntimeWarning: Couldn't find ffprobe or avprobe - defaulting to ffprobe, but may not work\n",
      "  warn(\"Couldn't find ffprobe or avprobe - defaulting to ffprobe, but may not work\", RuntimeWarning)\n",
      "                                                                         \r"
     ]
    },
    {
     "ename": "FileNotFoundError",
     "evalue": "[Errno 2] No such file or directory: 'ffprobe'",
     "output_type": "error",
     "traceback": [
      "\u001b[0;31m---------------------------------------------------------------------------\u001b[0m",
      "\u001b[0;31mFileNotFoundError\u001b[0m                         Traceback (most recent call last)",
      "\u001b[1;32m/Users/moyoajayi/Documents/audio-classification-education/src/audio_digit_classification.ipynb Cell 4'\u001b[0m in \u001b[0;36m<module>\u001b[0;34m\u001b[0m\n\u001b[1;32m      <a href='vscode-notebook-cell:/Users/moyoajayi/Documents/audio-classification-education/src/audio_digit_classification.ipynb#ch0000003?line=0'>1</a>\u001b[0m \u001b[39m# Obtain the data using the hub module\u001b[39;00m\n\u001b[1;32m      <a href='vscode-notebook-cell:/Users/moyoajayi/Documents/audio-classification-education/src/audio_digit_classification.ipynb#ch0000003?line=1'>2</a>\u001b[0m \n\u001b[1;32m      <a href='vscode-notebook-cell:/Users/moyoajayi/Documents/audio-classification-education/src/audio_digit_classification.ipynb#ch0000003?line=2'>3</a>\u001b[0m \u001b[39m# ds = hub.load(\"hub://activeloop/spoken_mnist\")\u001b[39;00m\n\u001b[0;32m----> <a href='vscode-notebook-cell:/Users/moyoajayi/Documents/audio-classification-education/src/audio_digit_classification.ipynb#ch0000003?line=4'>5</a>\u001b[0m train_ds, test_ds, vald_ds \u001b[39m=\u001b[39m tfds\u001b[39m.\u001b[39;49mload(\u001b[39m'\u001b[39;49m\u001b[39mspeech_commands\u001b[39;49m\u001b[39m'\u001b[39;49m, split\u001b[39m=\u001b[39;49m[\u001b[39m'\u001b[39;49m\u001b[39mtrain\u001b[39;49m\u001b[39m'\u001b[39;49m, \u001b[39m\"\u001b[39;49m\u001b[39mtest\u001b[39;49m\u001b[39m\"\u001b[39;49m, \u001b[39m\"\u001b[39;49m\u001b[39mvalidation\u001b[39;49m\u001b[39m\"\u001b[39;49m])\n",
      "File \u001b[0;32m~/miniforge3/envs/env-tf/lib/python3.8/site-packages/tensorflow_datasets/core/load.py:325\u001b[0m, in \u001b[0;36mload\u001b[0;34m(name, split, data_dir, batch_size, shuffle_files, download, as_supervised, decoders, read_config, with_info, builder_kwargs, download_and_prepare_kwargs, as_dataset_kwargs, try_gcs)\u001b[0m\n\u001b[1;32m    <a href='file:///~/miniforge3/envs/env-tf/lib/python3.8/site-packages/tensorflow_datasets/core/load.py?line=322'>323</a>\u001b[0m \u001b[39mif\u001b[39;00m download:\n\u001b[1;32m    <a href='file:///~/miniforge3/envs/env-tf/lib/python3.8/site-packages/tensorflow_datasets/core/load.py?line=323'>324</a>\u001b[0m   download_and_prepare_kwargs \u001b[39m=\u001b[39m download_and_prepare_kwargs \u001b[39mor\u001b[39;00m {}\n\u001b[0;32m--> <a href='file:///~/miniforge3/envs/env-tf/lib/python3.8/site-packages/tensorflow_datasets/core/load.py?line=324'>325</a>\u001b[0m   dbuilder\u001b[39m.\u001b[39;49mdownload_and_prepare(\u001b[39m*\u001b[39;49m\u001b[39m*\u001b[39;49mdownload_and_prepare_kwargs)\n\u001b[1;32m    <a href='file:///~/miniforge3/envs/env-tf/lib/python3.8/site-packages/tensorflow_datasets/core/load.py?line=326'>327</a>\u001b[0m \u001b[39mif\u001b[39;00m as_dataset_kwargs \u001b[39mis\u001b[39;00m \u001b[39mNone\u001b[39;00m:\n\u001b[1;32m    <a href='file:///~/miniforge3/envs/env-tf/lib/python3.8/site-packages/tensorflow_datasets/core/load.py?line=327'>328</a>\u001b[0m   as_dataset_kwargs \u001b[39m=\u001b[39m {}\n",
      "File \u001b[0;32m~/miniforge3/envs/env-tf/lib/python3.8/site-packages/tensorflow_datasets/core/dataset_builder.py:462\u001b[0m, in \u001b[0;36mDatasetBuilder.download_and_prepare\u001b[0;34m(self, download_dir, download_config)\u001b[0m\n\u001b[1;32m    <a href='file:///~/miniforge3/envs/env-tf/lib/python3.8/site-packages/tensorflow_datasets/core/dataset_builder.py?line=458'>459</a>\u001b[0m \u001b[39melse\u001b[39;00m:\n\u001b[1;32m    <a href='file:///~/miniforge3/envs/env-tf/lib/python3.8/site-packages/tensorflow_datasets/core/dataset_builder.py?line=459'>460</a>\u001b[0m   \u001b[39m# Old version of TF are not os.PathLike compatible\u001b[39;00m\n\u001b[1;32m    <a href='file:///~/miniforge3/envs/env-tf/lib/python3.8/site-packages/tensorflow_datasets/core/dataset_builder.py?line=460'>461</a>\u001b[0m   \u001b[39mwith\u001b[39;00m tf_compat\u001b[39m.\u001b[39mmock_gfile_pathlike():\n\u001b[0;32m--> <a href='file:///~/miniforge3/envs/env-tf/lib/python3.8/site-packages/tensorflow_datasets/core/dataset_builder.py?line=461'>462</a>\u001b[0m     \u001b[39mself\u001b[39;49m\u001b[39m.\u001b[39;49m_download_and_prepare(\n\u001b[1;32m    <a href='file:///~/miniforge3/envs/env-tf/lib/python3.8/site-packages/tensorflow_datasets/core/dataset_builder.py?line=462'>463</a>\u001b[0m         dl_manager\u001b[39m=\u001b[39;49mdl_manager,\n\u001b[1;32m    <a href='file:///~/miniforge3/envs/env-tf/lib/python3.8/site-packages/tensorflow_datasets/core/dataset_builder.py?line=463'>464</a>\u001b[0m         download_config\u001b[39m=\u001b[39;49mdownload_config,\n\u001b[1;32m    <a href='file:///~/miniforge3/envs/env-tf/lib/python3.8/site-packages/tensorflow_datasets/core/dataset_builder.py?line=464'>465</a>\u001b[0m     )\n\u001b[1;32m    <a href='file:///~/miniforge3/envs/env-tf/lib/python3.8/site-packages/tensorflow_datasets/core/dataset_builder.py?line=466'>467</a>\u001b[0m   \u001b[39m# NOTE: If modifying the lines below to put additional information in\u001b[39;00m\n\u001b[1;32m    <a href='file:///~/miniforge3/envs/env-tf/lib/python3.8/site-packages/tensorflow_datasets/core/dataset_builder.py?line=467'>468</a>\u001b[0m   \u001b[39m# DatasetInfo, you'll likely also want to update\u001b[39;00m\n\u001b[1;32m    <a href='file:///~/miniforge3/envs/env-tf/lib/python3.8/site-packages/tensorflow_datasets/core/dataset_builder.py?line=468'>469</a>\u001b[0m   \u001b[39m# DatasetInfo.read_from_directory to possibly restore these attributes\u001b[39;00m\n\u001b[1;32m    <a href='file:///~/miniforge3/envs/env-tf/lib/python3.8/site-packages/tensorflow_datasets/core/dataset_builder.py?line=469'>470</a>\u001b[0m   \u001b[39m# when reading from package data.\u001b[39;00m\n\u001b[1;32m    <a href='file:///~/miniforge3/envs/env-tf/lib/python3.8/site-packages/tensorflow_datasets/core/dataset_builder.py?line=470'>471</a>\u001b[0m   \u001b[39mself\u001b[39m\u001b[39m.\u001b[39minfo\u001b[39m.\u001b[39mdownload_size \u001b[39m=\u001b[39m dl_manager\u001b[39m.\u001b[39mdownloaded_size\n",
      "File \u001b[0;32m~/miniforge3/envs/env-tf/lib/python3.8/site-packages/tensorflow_datasets/core/dataset_builder.py:1191\u001b[0m, in \u001b[0;36mGeneratorBasedBuilder._download_and_prepare\u001b[0;34m(self, dl_manager, download_config)\u001b[0m\n\u001b[1;32m   <a href='file:///~/miniforge3/envs/env-tf/lib/python3.8/site-packages/tensorflow_datasets/core/dataset_builder.py?line=1179'>1180</a>\u001b[0m   \u001b[39mfor\u001b[39;00m split_name, generator \u001b[39min\u001b[39;00m utils\u001b[39m.\u001b[39mtqdm(\n\u001b[1;32m   <a href='file:///~/miniforge3/envs/env-tf/lib/python3.8/site-packages/tensorflow_datasets/core/dataset_builder.py?line=1180'>1181</a>\u001b[0m       split_generators\u001b[39m.\u001b[39mitems(),\n\u001b[1;32m   <a href='file:///~/miniforge3/envs/env-tf/lib/python3.8/site-packages/tensorflow_datasets/core/dataset_builder.py?line=1181'>1182</a>\u001b[0m       desc\u001b[39m=\u001b[39m\u001b[39m\"\u001b[39m\u001b[39mGenerating splits...\u001b[39m\u001b[39m\"\u001b[39m,\n\u001b[1;32m   <a href='file:///~/miniforge3/envs/env-tf/lib/python3.8/site-packages/tensorflow_datasets/core/dataset_builder.py?line=1182'>1183</a>\u001b[0m       unit\u001b[39m=\u001b[39m\u001b[39m\"\u001b[39m\u001b[39m splits\u001b[39m\u001b[39m\"\u001b[39m,\n\u001b[1;32m   <a href='file:///~/miniforge3/envs/env-tf/lib/python3.8/site-packages/tensorflow_datasets/core/dataset_builder.py?line=1183'>1184</a>\u001b[0m       leave\u001b[39m=\u001b[39m\u001b[39mFalse\u001b[39;00m,\n\u001b[1;32m   <a href='file:///~/miniforge3/envs/env-tf/lib/python3.8/site-packages/tensorflow_datasets/core/dataset_builder.py?line=1184'>1185</a>\u001b[0m   ):\n\u001b[1;32m   <a href='file:///~/miniforge3/envs/env-tf/lib/python3.8/site-packages/tensorflow_datasets/core/dataset_builder.py?line=1185'>1186</a>\u001b[0m     filename_template \u001b[39m=\u001b[39m naming\u001b[39m.\u001b[39mShardedFileTemplate(\n\u001b[1;32m   <a href='file:///~/miniforge3/envs/env-tf/lib/python3.8/site-packages/tensorflow_datasets/core/dataset_builder.py?line=1186'>1187</a>\u001b[0m         split\u001b[39m=\u001b[39msplit_name,\n\u001b[1;32m   <a href='file:///~/miniforge3/envs/env-tf/lib/python3.8/site-packages/tensorflow_datasets/core/dataset_builder.py?line=1187'>1188</a>\u001b[0m         dataset_name\u001b[39m=\u001b[39m\u001b[39mself\u001b[39m\u001b[39m.\u001b[39mname,\n\u001b[1;32m   <a href='file:///~/miniforge3/envs/env-tf/lib/python3.8/site-packages/tensorflow_datasets/core/dataset_builder.py?line=1188'>1189</a>\u001b[0m         data_dir\u001b[39m=\u001b[39m\u001b[39mself\u001b[39m\u001b[39m.\u001b[39mdata_path,\n\u001b[1;32m   <a href='file:///~/miniforge3/envs/env-tf/lib/python3.8/site-packages/tensorflow_datasets/core/dataset_builder.py?line=1189'>1190</a>\u001b[0m         filetype_suffix\u001b[39m=\u001b[39mpath_suffix)\n\u001b[0;32m-> <a href='file:///~/miniforge3/envs/env-tf/lib/python3.8/site-packages/tensorflow_datasets/core/dataset_builder.py?line=1190'>1191</a>\u001b[0m     future \u001b[39m=\u001b[39m split_builder\u001b[39m.\u001b[39;49msubmit_split_generation(\n\u001b[1;32m   <a href='file:///~/miniforge3/envs/env-tf/lib/python3.8/site-packages/tensorflow_datasets/core/dataset_builder.py?line=1191'>1192</a>\u001b[0m         split_name\u001b[39m=\u001b[39;49msplit_name,\n\u001b[1;32m   <a href='file:///~/miniforge3/envs/env-tf/lib/python3.8/site-packages/tensorflow_datasets/core/dataset_builder.py?line=1192'>1193</a>\u001b[0m         generator\u001b[39m=\u001b[39;49mgenerator,\n\u001b[1;32m   <a href='file:///~/miniforge3/envs/env-tf/lib/python3.8/site-packages/tensorflow_datasets/core/dataset_builder.py?line=1193'>1194</a>\u001b[0m         filename_template\u001b[39m=\u001b[39;49mfilename_template,\n\u001b[1;32m   <a href='file:///~/miniforge3/envs/env-tf/lib/python3.8/site-packages/tensorflow_datasets/core/dataset_builder.py?line=1194'>1195</a>\u001b[0m         disable_shuffling\u001b[39m=\u001b[39;49m\u001b[39mself\u001b[39;49m\u001b[39m.\u001b[39;49minfo\u001b[39m.\u001b[39;49mdisable_shuffling,\n\u001b[1;32m   <a href='file:///~/miniforge3/envs/env-tf/lib/python3.8/site-packages/tensorflow_datasets/core/dataset_builder.py?line=1195'>1196</a>\u001b[0m     )\n\u001b[1;32m   <a href='file:///~/miniforge3/envs/env-tf/lib/python3.8/site-packages/tensorflow_datasets/core/dataset_builder.py?line=1196'>1197</a>\u001b[0m     split_info_futures\u001b[39m.\u001b[39mappend(future)\n\u001b[1;32m   <a href='file:///~/miniforge3/envs/env-tf/lib/python3.8/site-packages/tensorflow_datasets/core/dataset_builder.py?line=1198'>1199</a>\u001b[0m \u001b[39m# Finalize the splits (after apache beam completed, if it was used)\u001b[39;00m\n",
      "File \u001b[0;32m~/miniforge3/envs/env-tf/lib/python3.8/site-packages/tensorflow_datasets/core/split_builder.py:291\u001b[0m, in \u001b[0;36mSplitBuilder.submit_split_generation\u001b[0;34m(self, split_name, generator, filename_template, disable_shuffling)\u001b[0m\n\u001b[1;32m    <a href='file:///~/miniforge3/envs/env-tf/lib/python3.8/site-packages/tensorflow_datasets/core/split_builder.py?line=287'>288</a>\u001b[0m \u001b[39m# Depending on the type of generator, we use the corresponding\u001b[39;00m\n\u001b[1;32m    <a href='file:///~/miniforge3/envs/env-tf/lib/python3.8/site-packages/tensorflow_datasets/core/split_builder.py?line=288'>289</a>\u001b[0m \u001b[39m# `_build_from_xyz` method.\u001b[39;00m\n\u001b[1;32m    <a href='file:///~/miniforge3/envs/env-tf/lib/python3.8/site-packages/tensorflow_datasets/core/split_builder.py?line=289'>290</a>\u001b[0m \u001b[39mif\u001b[39;00m \u001b[39misinstance\u001b[39m(generator, collections\u001b[39m.\u001b[39mabc\u001b[39m.\u001b[39mIterable):\n\u001b[0;32m--> <a href='file:///~/miniforge3/envs/env-tf/lib/python3.8/site-packages/tensorflow_datasets/core/split_builder.py?line=290'>291</a>\u001b[0m   \u001b[39mreturn\u001b[39;00m \u001b[39mself\u001b[39;49m\u001b[39m.\u001b[39;49m_build_from_generator(\u001b[39m*\u001b[39;49m\u001b[39m*\u001b[39;49mbuild_kwargs)\n\u001b[1;32m    <a href='file:///~/miniforge3/envs/env-tf/lib/python3.8/site-packages/tensorflow_datasets/core/split_builder.py?line=291'>292</a>\u001b[0m \u001b[39melse\u001b[39;00m:  \u001b[39m# Otherwise, beam required\u001b[39;00m\n\u001b[1;32m    <a href='file:///~/miniforge3/envs/env-tf/lib/python3.8/site-packages/tensorflow_datasets/core/split_builder.py?line=292'>293</a>\u001b[0m   unknown_generator_type \u001b[39m=\u001b[39m \u001b[39mTypeError\u001b[39;00m(\n\u001b[1;32m    <a href='file:///~/miniforge3/envs/env-tf/lib/python3.8/site-packages/tensorflow_datasets/core/split_builder.py?line=293'>294</a>\u001b[0m       \u001b[39mf\u001b[39m\u001b[39m'\u001b[39m\u001b[39mInvalid split generator value for split `\u001b[39m\u001b[39m{\u001b[39;00msplit_name\u001b[39m}\u001b[39;00m\u001b[39m`. \u001b[39m\u001b[39m'\u001b[39m\n\u001b[1;32m    <a href='file:///~/miniforge3/envs/env-tf/lib/python3.8/site-packages/tensorflow_datasets/core/split_builder.py?line=294'>295</a>\u001b[0m       \u001b[39m'\u001b[39m\u001b[39mExpected generator or apache_beam object. Got: \u001b[39m\u001b[39m'\u001b[39m\n\u001b[1;32m    <a href='file:///~/miniforge3/envs/env-tf/lib/python3.8/site-packages/tensorflow_datasets/core/split_builder.py?line=295'>296</a>\u001b[0m       \u001b[39mf\u001b[39m\u001b[39m'\u001b[39m\u001b[39m{\u001b[39;00m\u001b[39mtype\u001b[39m(generator)\u001b[39m}\u001b[39;00m\u001b[39m'\u001b[39m)\n",
      "File \u001b[0;32m~/miniforge3/envs/env-tf/lib/python3.8/site-packages/tensorflow_datasets/core/split_builder.py:352\u001b[0m, in \u001b[0;36mSplitBuilder._build_from_generator\u001b[0;34m(self, split_name, generator, filename_template, disable_shuffling)\u001b[0m\n\u001b[1;32m    <a href='file:///~/miniforge3/envs/env-tf/lib/python3.8/site-packages/tensorflow_datasets/core/split_builder.py?line=341'>342</a>\u001b[0m     total_num_examples \u001b[39m=\u001b[39m \u001b[39mNone\u001b[39;00m\n\u001b[1;32m    <a href='file:///~/miniforge3/envs/env-tf/lib/python3.8/site-packages/tensorflow_datasets/core/split_builder.py?line=343'>344</a>\u001b[0m writer \u001b[39m=\u001b[39m tfrecords_writer\u001b[39m.\u001b[39mWriter(\n\u001b[1;32m    <a href='file:///~/miniforge3/envs/env-tf/lib/python3.8/site-packages/tensorflow_datasets/core/split_builder.py?line=344'>345</a>\u001b[0m     example_specs\u001b[39m=\u001b[39m\u001b[39mself\u001b[39m\u001b[39m.\u001b[39m_features\u001b[39m.\u001b[39mget_serialized_info(),\n\u001b[1;32m    <a href='file:///~/miniforge3/envs/env-tf/lib/python3.8/site-packages/tensorflow_datasets/core/split_builder.py?line=345'>346</a>\u001b[0m     filename_template\u001b[39m=\u001b[39mfilename_template,\n\u001b[0;32m   (...)\u001b[0m\n\u001b[1;32m    <a href='file:///~/miniforge3/envs/env-tf/lib/python3.8/site-packages/tensorflow_datasets/core/split_builder.py?line=349'>350</a>\u001b[0m     file_format\u001b[39m=\u001b[39m\u001b[39mself\u001b[39m\u001b[39m.\u001b[39m_file_format,\n\u001b[1;32m    <a href='file:///~/miniforge3/envs/env-tf/lib/python3.8/site-packages/tensorflow_datasets/core/split_builder.py?line=350'>351</a>\u001b[0m )\n\u001b[0;32m--> <a href='file:///~/miniforge3/envs/env-tf/lib/python3.8/site-packages/tensorflow_datasets/core/split_builder.py?line=351'>352</a>\u001b[0m \u001b[39mfor\u001b[39;00m key, example \u001b[39min\u001b[39;00m utils\u001b[39m.\u001b[39mtqdm(\n\u001b[1;32m    <a href='file:///~/miniforge3/envs/env-tf/lib/python3.8/site-packages/tensorflow_datasets/core/split_builder.py?line=352'>353</a>\u001b[0m     generator,\n\u001b[1;32m    <a href='file:///~/miniforge3/envs/env-tf/lib/python3.8/site-packages/tensorflow_datasets/core/split_builder.py?line=353'>354</a>\u001b[0m     desc\u001b[39m=\u001b[39m\u001b[39mf\u001b[39m\u001b[39m'\u001b[39m\u001b[39mGenerating \u001b[39m\u001b[39m{\u001b[39;00msplit_name\u001b[39m}\u001b[39;00m\u001b[39m examples...\u001b[39m\u001b[39m'\u001b[39m,\n\u001b[1;32m    <a href='file:///~/miniforge3/envs/env-tf/lib/python3.8/site-packages/tensorflow_datasets/core/split_builder.py?line=354'>355</a>\u001b[0m     unit\u001b[39m=\u001b[39m\u001b[39m'\u001b[39m\u001b[39m examples\u001b[39m\u001b[39m'\u001b[39m,\n\u001b[1;32m    <a href='file:///~/miniforge3/envs/env-tf/lib/python3.8/site-packages/tensorflow_datasets/core/split_builder.py?line=355'>356</a>\u001b[0m     total\u001b[39m=\u001b[39mtotal_num_examples,\n\u001b[1;32m    <a href='file:///~/miniforge3/envs/env-tf/lib/python3.8/site-packages/tensorflow_datasets/core/split_builder.py?line=356'>357</a>\u001b[0m     leave\u001b[39m=\u001b[39m\u001b[39mFalse\u001b[39;00m,\n\u001b[1;32m    <a href='file:///~/miniforge3/envs/env-tf/lib/python3.8/site-packages/tensorflow_datasets/core/split_builder.py?line=357'>358</a>\u001b[0m ):\n\u001b[1;32m    <a href='file:///~/miniforge3/envs/env-tf/lib/python3.8/site-packages/tensorflow_datasets/core/split_builder.py?line=358'>359</a>\u001b[0m   \u001b[39mtry\u001b[39;00m:\n\u001b[1;32m    <a href='file:///~/miniforge3/envs/env-tf/lib/python3.8/site-packages/tensorflow_datasets/core/split_builder.py?line=359'>360</a>\u001b[0m     example \u001b[39m=\u001b[39m \u001b[39mself\u001b[39m\u001b[39m.\u001b[39m_features\u001b[39m.\u001b[39mencode_example(example)\n",
      "File \u001b[0;32m~/miniforge3/envs/env-tf/lib/python3.8/site-packages/tqdm/std.py:1180\u001b[0m, in \u001b[0;36mtqdm.__iter__\u001b[0;34m(self)\u001b[0m\n\u001b[1;32m   <a href='file:///~/miniforge3/envs/env-tf/lib/python3.8/site-packages/tqdm/std.py?line=1176'>1177</a>\u001b[0m time \u001b[39m=\u001b[39m \u001b[39mself\u001b[39m\u001b[39m.\u001b[39m_time\n\u001b[1;32m   <a href='file:///~/miniforge3/envs/env-tf/lib/python3.8/site-packages/tqdm/std.py?line=1178'>1179</a>\u001b[0m \u001b[39mtry\u001b[39;00m:\n\u001b[0;32m-> <a href='file:///~/miniforge3/envs/env-tf/lib/python3.8/site-packages/tqdm/std.py?line=1179'>1180</a>\u001b[0m     \u001b[39mfor\u001b[39;00m obj \u001b[39min\u001b[39;00m iterable:\n\u001b[1;32m   <a href='file:///~/miniforge3/envs/env-tf/lib/python3.8/site-packages/tqdm/std.py?line=1180'>1181</a>\u001b[0m         \u001b[39myield\u001b[39;00m obj\n\u001b[1;32m   <a href='file:///~/miniforge3/envs/env-tf/lib/python3.8/site-packages/tqdm/std.py?line=1181'>1182</a>\u001b[0m         \u001b[39m# Update and possibly print the progressbar.\u001b[39;00m\n\u001b[1;32m   <a href='file:///~/miniforge3/envs/env-tf/lib/python3.8/site-packages/tqdm/std.py?line=1182'>1183</a>\u001b[0m         \u001b[39m# Note: does not call self.update(1) for speed optimisation.\u001b[39;00m\n",
      "File \u001b[0;32m~/miniforge3/envs/env-tf/lib/python3.8/site-packages/tensorflow_datasets/audio/speech_commands.py:160\u001b[0m, in \u001b[0;36mSpeechCommands._generate_examples\u001b[0;34m(self, archive, file_list)\u001b[0m\n\u001b[1;32m    <a href='file:///~/miniforge3/envs/env-tf/lib/python3.8/site-packages/tensorflow_datasets/audio/speech_commands.py?line=154'>155</a>\u001b[0m \u001b[39melse\u001b[39;00m:\n\u001b[1;32m    <a href='file:///~/miniforge3/envs/env-tf/lib/python3.8/site-packages/tensorflow_datasets/audio/speech_commands.py?line=155'>156</a>\u001b[0m   \u001b[39mtry\u001b[39;00m:\n\u001b[1;32m    <a href='file:///~/miniforge3/envs/env-tf/lib/python3.8/site-packages/tensorflow_datasets/audio/speech_commands.py?line=156'>157</a>\u001b[0m     example \u001b[39m=\u001b[39m {\n\u001b[1;32m    <a href='file:///~/miniforge3/envs/env-tf/lib/python3.8/site-packages/tensorflow_datasets/audio/speech_commands.py?line=157'>158</a>\u001b[0m         \u001b[39m'\u001b[39m\u001b[39maudio\u001b[39m\u001b[39m'\u001b[39m:\n\u001b[1;32m    <a href='file:///~/miniforge3/envs/env-tf/lib/python3.8/site-packages/tensorflow_datasets/audio/speech_commands.py?line=158'>159</a>\u001b[0m             np\u001b[39m.\u001b[39marray(\n\u001b[0;32m--> <a href='file:///~/miniforge3/envs/env-tf/lib/python3.8/site-packages/tensorflow_datasets/audio/speech_commands.py?line=159'>160</a>\u001b[0m                 lazy_imports_lib\u001b[39m.\u001b[39;49mlazy_imports\u001b[39m.\u001b[39;49mpydub\u001b[39m.\u001b[39;49mAudioSegment\n\u001b[1;32m    <a href='file:///~/miniforge3/envs/env-tf/lib/python3.8/site-packages/tensorflow_datasets/audio/speech_commands.py?line=160'>161</a>\u001b[0m                 \u001b[39m.\u001b[39;49mfrom_file(file_obj,\n\u001b[1;32m    <a href='file:///~/miniforge3/envs/env-tf/lib/python3.8/site-packages/tensorflow_datasets/audio/speech_commands.py?line=161'>162</a>\u001b[0m                            \u001b[39mformat\u001b[39;49m\u001b[39m=\u001b[39;49m\u001b[39m'\u001b[39;49m\u001b[39mwav\u001b[39;49m\u001b[39m'\u001b[39;49m)\u001b[39m.\u001b[39mget_array_of_samples()),\n\u001b[1;32m    <a href='file:///~/miniforge3/envs/env-tf/lib/python3.8/site-packages/tensorflow_datasets/audio/speech_commands.py?line=162'>163</a>\u001b[0m         \u001b[39m'\u001b[39m\u001b[39mlabel\u001b[39m\u001b[39m'\u001b[39m:\n\u001b[1;32m    <a href='file:///~/miniforge3/envs/env-tf/lib/python3.8/site-packages/tensorflow_datasets/audio/speech_commands.py?line=163'>164</a>\u001b[0m             label,\n\u001b[1;32m    <a href='file:///~/miniforge3/envs/env-tf/lib/python3.8/site-packages/tensorflow_datasets/audio/speech_commands.py?line=164'>165</a>\u001b[0m     }\n\u001b[1;32m    <a href='file:///~/miniforge3/envs/env-tf/lib/python3.8/site-packages/tensorflow_datasets/audio/speech_commands.py?line=165'>166</a>\u001b[0m     \u001b[39myield\u001b[39;00m example_id, example\n\u001b[1;32m    <a href='file:///~/miniforge3/envs/env-tf/lib/python3.8/site-packages/tensorflow_datasets/audio/speech_commands.py?line=166'>167</a>\u001b[0m   \u001b[39mexcept\u001b[39;00m lazy_imports_lib\u001b[39m.\u001b[39mlazy_imports\u001b[39m.\u001b[39mpydub\u001b[39m.\u001b[39mexceptions\u001b[39m.\u001b[39mCouldntDecodeError:\n",
      "File \u001b[0;32m~/miniforge3/envs/env-tf/lib/python3.8/site-packages/pydub/audio_segment.py:728\u001b[0m, in \u001b[0;36mAudioSegment.from_file\u001b[0;34m(cls, file, format, codec, parameters, start_second, duration, **kwargs)\u001b[0m\n\u001b[1;32m    <a href='file:///~/miniforge3/envs/env-tf/lib/python3.8/site-packages/pydub/audio_segment.py?line=725'>726</a>\u001b[0m     info \u001b[39m=\u001b[39m \u001b[39mNone\u001b[39;00m\n\u001b[1;32m    <a href='file:///~/miniforge3/envs/env-tf/lib/python3.8/site-packages/pydub/audio_segment.py?line=726'>727</a>\u001b[0m \u001b[39melse\u001b[39;00m:\n\u001b[0;32m--> <a href='file:///~/miniforge3/envs/env-tf/lib/python3.8/site-packages/pydub/audio_segment.py?line=727'>728</a>\u001b[0m     info \u001b[39m=\u001b[39m mediainfo_json(orig_file, read_ahead_limit\u001b[39m=\u001b[39;49mread_ahead_limit)\n\u001b[1;32m    <a href='file:///~/miniforge3/envs/env-tf/lib/python3.8/site-packages/pydub/audio_segment.py?line=728'>729</a>\u001b[0m \u001b[39mif\u001b[39;00m info:\n\u001b[1;32m    <a href='file:///~/miniforge3/envs/env-tf/lib/python3.8/site-packages/pydub/audio_segment.py?line=729'>730</a>\u001b[0m     audio_streams \u001b[39m=\u001b[39m [x \u001b[39mfor\u001b[39;00m x \u001b[39min\u001b[39;00m info[\u001b[39m'\u001b[39m\u001b[39mstreams\u001b[39m\u001b[39m'\u001b[39m]\n\u001b[1;32m    <a href='file:///~/miniforge3/envs/env-tf/lib/python3.8/site-packages/pydub/audio_segment.py?line=730'>731</a>\u001b[0m                      \u001b[39mif\u001b[39;00m x[\u001b[39m'\u001b[39m\u001b[39mcodec_type\u001b[39m\u001b[39m'\u001b[39m] \u001b[39m==\u001b[39m \u001b[39m'\u001b[39m\u001b[39maudio\u001b[39m\u001b[39m'\u001b[39m]\n",
      "File \u001b[0;32m~/miniforge3/envs/env-tf/lib/python3.8/site-packages/pydub/utils.py:274\u001b[0m, in \u001b[0;36mmediainfo_json\u001b[0;34m(filepath, read_ahead_limit)\u001b[0m\n\u001b[1;32m    <a href='file:///~/miniforge3/envs/env-tf/lib/python3.8/site-packages/pydub/utils.py?line=270'>271</a>\u001b[0m         file\u001b[39m.\u001b[39mclose()\n\u001b[1;32m    <a href='file:///~/miniforge3/envs/env-tf/lib/python3.8/site-packages/pydub/utils.py?line=272'>273</a>\u001b[0m command \u001b[39m=\u001b[39m [prober, \u001b[39m'\u001b[39m\u001b[39m-of\u001b[39m\u001b[39m'\u001b[39m, \u001b[39m'\u001b[39m\u001b[39mjson\u001b[39m\u001b[39m'\u001b[39m] \u001b[39m+\u001b[39m command_args\n\u001b[0;32m--> <a href='file:///~/miniforge3/envs/env-tf/lib/python3.8/site-packages/pydub/utils.py?line=273'>274</a>\u001b[0m res \u001b[39m=\u001b[39m Popen(command, stdin\u001b[39m=\u001b[39;49mstdin_parameter, stdout\u001b[39m=\u001b[39;49mPIPE, stderr\u001b[39m=\u001b[39;49mPIPE)\n\u001b[1;32m    <a href='file:///~/miniforge3/envs/env-tf/lib/python3.8/site-packages/pydub/utils.py?line=274'>275</a>\u001b[0m output, stderr \u001b[39m=\u001b[39m res\u001b[39m.\u001b[39mcommunicate(\u001b[39minput\u001b[39m\u001b[39m=\u001b[39mstdin_data)\n\u001b[1;32m    <a href='file:///~/miniforge3/envs/env-tf/lib/python3.8/site-packages/pydub/utils.py?line=275'>276</a>\u001b[0m output \u001b[39m=\u001b[39m output\u001b[39m.\u001b[39mdecode(\u001b[39m\"\u001b[39m\u001b[39mutf-8\u001b[39m\u001b[39m\"\u001b[39m, \u001b[39m'\u001b[39m\u001b[39mignore\u001b[39m\u001b[39m'\u001b[39m)\n",
      "File \u001b[0;32m~/miniforge3/envs/env-tf/lib/python3.8/subprocess.py:858\u001b[0m, in \u001b[0;36mPopen.__init__\u001b[0;34m(self, args, bufsize, executable, stdin, stdout, stderr, preexec_fn, close_fds, shell, cwd, env, universal_newlines, startupinfo, creationflags, restore_signals, start_new_session, pass_fds, encoding, errors, text)\u001b[0m\n\u001b[1;32m    <a href='file:///~/miniforge3/envs/env-tf/lib/python3.8/subprocess.py?line=853'>854</a>\u001b[0m         \u001b[39mif\u001b[39;00m \u001b[39mself\u001b[39m\u001b[39m.\u001b[39mtext_mode:\n\u001b[1;32m    <a href='file:///~/miniforge3/envs/env-tf/lib/python3.8/subprocess.py?line=854'>855</a>\u001b[0m             \u001b[39mself\u001b[39m\u001b[39m.\u001b[39mstderr \u001b[39m=\u001b[39m io\u001b[39m.\u001b[39mTextIOWrapper(\u001b[39mself\u001b[39m\u001b[39m.\u001b[39mstderr,\n\u001b[1;32m    <a href='file:///~/miniforge3/envs/env-tf/lib/python3.8/subprocess.py?line=855'>856</a>\u001b[0m                     encoding\u001b[39m=\u001b[39mencoding, errors\u001b[39m=\u001b[39merrors)\n\u001b[0;32m--> <a href='file:///~/miniforge3/envs/env-tf/lib/python3.8/subprocess.py?line=857'>858</a>\u001b[0m     \u001b[39mself\u001b[39;49m\u001b[39m.\u001b[39;49m_execute_child(args, executable, preexec_fn, close_fds,\n\u001b[1;32m    <a href='file:///~/miniforge3/envs/env-tf/lib/python3.8/subprocess.py?line=858'>859</a>\u001b[0m                         pass_fds, cwd, env,\n\u001b[1;32m    <a href='file:///~/miniforge3/envs/env-tf/lib/python3.8/subprocess.py?line=859'>860</a>\u001b[0m                         startupinfo, creationflags, shell,\n\u001b[1;32m    <a href='file:///~/miniforge3/envs/env-tf/lib/python3.8/subprocess.py?line=860'>861</a>\u001b[0m                         p2cread, p2cwrite,\n\u001b[1;32m    <a href='file:///~/miniforge3/envs/env-tf/lib/python3.8/subprocess.py?line=861'>862</a>\u001b[0m                         c2pread, c2pwrite,\n\u001b[1;32m    <a href='file:///~/miniforge3/envs/env-tf/lib/python3.8/subprocess.py?line=862'>863</a>\u001b[0m                         errread, errwrite,\n\u001b[1;32m    <a href='file:///~/miniforge3/envs/env-tf/lib/python3.8/subprocess.py?line=863'>864</a>\u001b[0m                         restore_signals, start_new_session)\n\u001b[1;32m    <a href='file:///~/miniforge3/envs/env-tf/lib/python3.8/subprocess.py?line=864'>865</a>\u001b[0m \u001b[39mexcept\u001b[39;00m:\n\u001b[1;32m    <a href='file:///~/miniforge3/envs/env-tf/lib/python3.8/subprocess.py?line=865'>866</a>\u001b[0m     \u001b[39m# Cleanup if the child failed starting.\u001b[39;00m\n\u001b[1;32m    <a href='file:///~/miniforge3/envs/env-tf/lib/python3.8/subprocess.py?line=866'>867</a>\u001b[0m     \u001b[39mfor\u001b[39;00m f \u001b[39min\u001b[39;00m \u001b[39mfilter\u001b[39m(\u001b[39mNone\u001b[39;00m, (\u001b[39mself\u001b[39m\u001b[39m.\u001b[39mstdin, \u001b[39mself\u001b[39m\u001b[39m.\u001b[39mstdout, \u001b[39mself\u001b[39m\u001b[39m.\u001b[39mstderr)):\n",
      "File \u001b[0;32m~/miniforge3/envs/env-tf/lib/python3.8/subprocess.py:1704\u001b[0m, in \u001b[0;36mPopen._execute_child\u001b[0;34m(self, args, executable, preexec_fn, close_fds, pass_fds, cwd, env, startupinfo, creationflags, shell, p2cread, p2cwrite, c2pread, c2pwrite, errread, errwrite, restore_signals, start_new_session)\u001b[0m\n\u001b[1;32m   <a href='file:///~/miniforge3/envs/env-tf/lib/python3.8/subprocess.py?line=1701'>1702</a>\u001b[0m     \u001b[39mif\u001b[39;00m errno_num \u001b[39m!=\u001b[39m \u001b[39m0\u001b[39m:\n\u001b[1;32m   <a href='file:///~/miniforge3/envs/env-tf/lib/python3.8/subprocess.py?line=1702'>1703</a>\u001b[0m         err_msg \u001b[39m=\u001b[39m os\u001b[39m.\u001b[39mstrerror(errno_num)\n\u001b[0;32m-> <a href='file:///~/miniforge3/envs/env-tf/lib/python3.8/subprocess.py?line=1703'>1704</a>\u001b[0m     \u001b[39mraise\u001b[39;00m child_exception_type(errno_num, err_msg, err_filename)\n\u001b[1;32m   <a href='file:///~/miniforge3/envs/env-tf/lib/python3.8/subprocess.py?line=1704'>1705</a>\u001b[0m \u001b[39mraise\u001b[39;00m child_exception_type(err_msg)\n",
      "\u001b[0;31mFileNotFoundError\u001b[0m: [Errno 2] No such file or directory: 'ffprobe'"
     ]
    }
   ],
   "source": [
    "# Obtain the data using the hub module\n",
    "\n",
    "# ds = hub.load(\"hub://activeloop/spoken_mnist\")\n",
    "\n",
    "train_ds, test_ds, vald_ds = tfds.load('speech_commands', split=['train', \"test\", \"validation\"])\n"
   ]
  },
  {
   "cell_type": "code",
   "execution_count": 163,
   "metadata": {},
   "outputs": [
    {
     "ename": "AttributeError",
     "evalue": "'list' object has no attribute 'audio'",
     "output_type": "error",
     "traceback": [
      "\u001b[0;31m---------------------------------------------------------------------------\u001b[0m",
      "\u001b[0;31mAttributeError\u001b[0m                            Traceback (most recent call last)",
      "\u001b[1;32m/Users/moyoajayi/Documents/audio-classification-education/src/audio_digit_classification.ipynb Cell 5'\u001b[0m in \u001b[0;36m<module>\u001b[0;34m\u001b[0m\n\u001b[0;32m----> <a href='vscode-notebook-cell:/Users/moyoajayi/Documents/audio-classification-education/src/audio_digit_classification.ipynb#ch0000049?line=0'>1</a>\u001b[0m train_ds\u001b[39m.\u001b[39;49maudio\n",
      "\u001b[0;31mAttributeError\u001b[0m: 'list' object has no attribute 'audio'"
     ]
    }
   ],
   "source": [
    "train_ds.audio"
   ]
  },
  {
   "cell_type": "markdown",
   "metadata": {},
   "source": [
    "## 1.| Prepare Data Set\n",
    "\n",
    "Based on the description of the data by the source [repository](https://github.com/Jakobovski/free-spoken-digit-dataset#usage), the first five recordings by each speaker (0-4) are to be considered the test set and the remaining recordings per speaker (5-49) should be considered the training set.\n",
    "\n",
    "This will be achieved by simply [taking](https://www.tensorflow.org/api_docs/python/tf/data/Dataset#take) the first "
   ]
  },
  {
   "cell_type": "code",
   "execution_count": 84,
   "metadata": {},
   "outputs": [],
   "source": [
    "# Split data into training and test sets and\n",
    "\n",
    "test = []\n",
    "train = []\n",
    "\n",
    "for i in range(50):\n",
    "    if i <= 4:\n",
    "        test.append(ds.labels[i].numpy())\n",
    "    else:\n",
    "        train.append(ds.labels[i].numpy())"
   ]
  },
  {
   "cell_type": "code",
   "execution_count": null,
   "metadata": {},
   "outputs": [],
   "source": [
    "lst = list(range(4, 3000, 50))\n",
    "\n",
    "for n in lst:\n",
    "    print(ds.labels[n].data())\n",
    "    print(ds.speakers[n].data())"
   ]
  },
  {
   "cell_type": "code",
   "execution_count": 148,
   "metadata": {},
   "outputs": [],
   "source": [
    "tst_lst = list(range(0, 3000))\n",
    "\n",
    "res = [x for x in tst_lst if x % 10 <= 4]"
   ]
  },
  {
   "cell_type": "code",
   "execution_count": 156,
   "metadata": {},
   "outputs": [
    {
     "name": "stdout",
     "output_type": "stream",
     "text": [
      "<_TakeWhileDataset shapes: (), types: tf.int64>\n"
     ]
    },
    {
     "name": "stderr",
     "output_type": "stream",
     "text": [
      "/Users/moyoajayi/miniforge3/envs/env-tf/lib/python3.8/site-packages/hub/core/fast_forwarding.py:44: UserWarning: Loading a dataset that was created with a newer version of hub. This could lead to corruption or weird errors! Dataset version: 2.2.4, current hub version: 2.2.3. It's recommended that you update to a version of hub >= 2.2.4.\n",
      "  warnings.warn(\n"
     ]
    }
   ],
   "source": [
    "ds_tf = ds.tensorflow()\n",
    "dataset = tf.data.Dataset.range(3001)\n",
    "tst = tf.data.experimental.take_while(lambda x: x % 10 <= 4)\n",
    "res_ds = dataset.apply(tst)\n",
    "print(res_ds)\n",
    "\n",
    "# for tens in tst:\n",
    "#     print(tens[\"speakers\"])"
   ]
  },
  {
   "cell_type": "markdown",
   "metadata": {},
   "source": [
    "## EDA\n",
    "\n",
    "Explore the data set retrieved from the previous step. To begin, let's examine the tensors belonging to the downloaded dataset, specifically, the name of each tensor. "
   ]
  },
  {
   "cell_type": "code",
   "execution_count": 54,
   "metadata": {},
   "outputs": [
    {
     "data": {
      "text/plain": [
       "dict_keys(['spectrograms', 'labels', 'audio', 'speakers'])"
      ]
     },
     "execution_count": 54,
     "metadata": {},
     "output_type": "execute_result"
    }
   ],
   "source": [
    "ds.tensors.keys()"
   ]
  },
  {
   "cell_type": "markdown",
   "metadata": {},
   "source": [
    "The execution of the preivous cell highlights four categories:\n",
    "1. `spectrograms`: visual repreentations of the frequency, amplitude, and length of time for the recorded sound.\n",
    "2. `labels`: These are labels that tell the user which number was spoken (e.g. \"0\", \"3\"). These numbers are recorded within arrays\n",
    "3. `audio`: The audio for each of the spoken numbers is reorded in this tensor\n",
    "4. `speakers`: A string that indicates the first name of the speaker"
   ]
  },
  {
   "cell_type": "code",
   "execution_count": 81,
   "metadata": {},
   "outputs": [
    {
     "data": {
      "text/plain": [
       "array(['george'], dtype='<U6')"
      ]
     },
     "execution_count": 81,
     "metadata": {},
     "output_type": "execute_result"
    }
   ],
   "source": [
    "ds.speakers[300].numpy()"
   ]
  },
  {
   "cell_type": "code",
   "execution_count": 82,
   "metadata": {},
   "outputs": [
    {
     "data": {
      "text/plain": [
       "array([1], dtype=uint32)"
      ]
     },
     "execution_count": 82,
     "metadata": {},
     "output_type": "execute_result"
    }
   ],
   "source": [
    "ds.labels[300].numpy()"
   ]
  },
  {
   "cell_type": "code",
   "execution_count": 61,
   "metadata": {},
   "outputs": [
    {
     "data": {
      "image/png": "[encoded data removed]",
      "text/plain": [
       "<Figure size 432x288 with 1 Axes>"
      ]
     },
     "metadata": {
      "needs_background": "light"
     },
     "output_type": "display_data"
    }
   ],
   "source": [
    "\n",
    "plt.imshow(ds.spectrograms[150])\n",
    "plt.show()"
   ]
  },
  {
   "cell_type": "markdown",
   "metadata": {},
   "source": [
    "## Play Audio from Data Set\n",
    "\n",
    "To get a feel of the audio that was actually recorded by the speakers, we can extract the sound from the `audio` tenor within the data set (`ds`). \n",
    "\n",
    "_As of 20 Feb, the widget is **not** working for an unknown reason_"
   ]
  },
  {
   "cell_type": "code",
   "execution_count": null,
   "metadata": {},
   "outputs": [
    {
     "data": {
      "application/vnd.jupyter.widget-view+json": {
       "model_id": "adfafb9f09dd4569b070f70730896632",
       "version_major": 2,
       "version_minor": 0
      },
      "text/plain": [
       "interactive(children=(FloatSlider(value=220.0, description='f1', max=300.0, min=200.0), FloatSlider(value=224.…"
      ]
     },
     "metadata": {},
     "output_type": "display_data"
    }
   ],
   "source": [
    "# Toy Function to play beats in notebook\n",
    "def beat_freq(f1=220.0, f2=224.0):\n",
    "    max_time = 5\n",
    "    rate = 8000\n",
    "    times = np.linspace(0,max_time,rate*max_time)\n",
    "    signal = np.sin(2*np.pi*f1*times) + np.sin(2*np.pi*f2*times)\n",
    "    display(Audio(data=signal, rate=rate))\n",
    "    return signal\n",
    "\n",
    "v = interactive(beat_freq, f1=(200.0,300.0), f2=(200.0,300.0))\n",
    "display(v)"
   ]
  },
  {
   "cell_type": "code",
   "execution_count": 28,
   "metadata": {},
   "outputs": [
    {
     "data": {
      "text/html": [
       "\n",
       "                <audio  controls=\"controls\" autoplay=\"autoplay\">\n",
       "                    <source src=\"data:audio/wav;base64,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\" type=\"audio/wav\" />\n",
       "                    Your browser does not support the audio element.\n",
       "                </audio>\n",
       "              "
      ],
      "text/plain": [
       "<IPython.lib.display.Audio object>"
      ]
     },
     "metadata": {},
     "output_type": "display_data"
    }
   ],
   "source": [
    "samp = \"/Users/moyoajayi/Documents/audio-classification-education/data/WATRWave_Sea waves (ID 0266)_BSB.wav\"\n",
    "sample = ds.audio[0].numpy()\n",
    "display(Audio(data=sample, rate = 8000, autoplay=True))"
   ]
  },
  {
   "cell_type": "code",
   "execution_count": 27,
   "metadata": {},
   "outputs": [
    {
     "name": "stderr",
     "output_type": "stream",
     "text": [
      "/Users/moyoajayi/miniforge3/envs/env-tf/lib/python3.8/site-packages/hub/core/fast_forwarding.py:44: UserWarning: Loading a dataset that was created with a newer version of hub. This could lead to corruption or weird errors! Dataset version: 2.2.4, current hub version: 2.2.3. It's recommended that you update to a version of hub >= 2.2.4.\n",
      "  warnings.warn(\n",
      "2022-02-20 12:27:19.350138: I tensorflow/compiler/mlir/mlir_graph_optimization_pass.cc:116] None of the MLIR optimization passes are enabled (registered 2)\n",
      "2022-02-20 12:27:19.350301: W tensorflow/core/platform/profile_utils/cpu_utils.cc:126] Failed to get CPU frequency: 0 Hz\n"
     ]
    },
    {
     "ename": "AttributeError",
     "evalue": "'dict' object has no attribute 'audio'",
     "output_type": "error",
     "traceback": [
      "\u001b[0;31m---------------------------------------------------------------------------\u001b[0m",
      "\u001b[0;31mAttributeError\u001b[0m                            Traceback (most recent call last)",
      "\u001b[1;32m/Users/moyoajayi/Documents/audio-classification-education/src/audio_digit_classification.ipynb Cell 10'\u001b[0m in \u001b[0;36m<module>\u001b[0;34m\u001b[0m\n\u001b[1;32m      <a href='vscode-notebook-cell:/Users/moyoajayi/Documents/audio-classification-education/src/audio_digit_classification.ipynb#ch0000011?line=0'>1</a>\u001b[0m count \u001b[39m=\u001b[39m \u001b[39m0\u001b[39m\n\u001b[1;32m      <a href='vscode-notebook-cell:/Users/moyoajayi/Documents/audio-classification-education/src/audio_digit_classification.ipynb#ch0000011?line=1'>2</a>\u001b[0m \u001b[39mfor\u001b[39;00m tensor \u001b[39min\u001b[39;00m ds\u001b[39m.\u001b[39mtensorflow(): \n\u001b[0;32m----> <a href='vscode-notebook-cell:/Users/moyoajayi/Documents/audio-classification-education/src/audio_digit_classification.ipynb#ch0000011?line=2'>3</a>\u001b[0m     \u001b[39mprint\u001b[39m(tensor\u001b[39m.\u001b[39;49maudio\u001b[39m.\u001b[39mdata())\n\u001b[1;32m      <a href='vscode-notebook-cell:/Users/moyoajayi/Documents/audio-classification-education/src/audio_digit_classification.ipynb#ch0000011?line=3'>4</a>\u001b[0m     \u001b[39mif\u001b[39;00m count \u001b[39m==\u001b[39m \u001b[39m3\u001b[39m:\n\u001b[1;32m      <a href='vscode-notebook-cell:/Users/moyoajayi/Documents/audio-classification-education/src/audio_digit_classification.ipynb#ch0000011?line=4'>5</a>\u001b[0m         \u001b[39mcontinue\u001b[39;00m\n",
      "\u001b[0;31mAttributeError\u001b[0m: 'dict' object has no attribute 'audio'"
     ]
    }
   ],
   "source": [
    "count = 0\n",
    "for tensor in ds.tensorflow(): \n",
    "    print(tensor.audio.data())\n",
    "    if count == 3:\n",
    "        continue\n",
    "    count = count + 1"
   ]
  },
  {
   "cell_type": "markdown",
   "metadata": {},
   "source": [
    "## Build Tensorflow Model\n",
    "\n",
    "With the EDA completed, now it is time to prepare a"
   ]
  },
  {
   "cell_type": "code",
   "execution_count": 65,
   "metadata": {},
   "outputs": [
    {
     "data": {
      "text/plain": [
       "tensorflow.python.data.ops.dataset_ops.FlatMapDataset"
      ]
     },
     "execution_count": 65,
     "metadata": {},
     "output_type": "execute_result"
    }
   ],
   "source": [
    "# Convert the dataset to a tenforflow dataset object\n",
    "\n",
    "df_tf = ds.tensorflow()\n",
    "type(df_tf)\n",
    "# print(\"The data set downloaded from hub has be converted to a tensorflow dataset\")"
   ]
  },
  {
   "cell_type": "code",
   "execution_count": 68,
   "metadata": {},
   "outputs": [
    {
     "name": "stdout",
     "output_type": "stream",
     "text": [
      "Model: \"sequential_1\"\n",
      "_________________________________________________________________\n",
      "Layer (type)                 Output Shape              Param #   \n",
      "=================================================================\n",
      "dense_2 (Dense)              (None, 10)                30010     \n",
      "_________________________________________________________________\n",
      "dense_3 (Dense)              (None, 10)                110       \n",
      "=================================================================\n",
      "Total params: 30,120\n",
      "Trainable params: 30,120\n",
      "Non-trainable params: 0\n",
      "_________________________________________________________________\n"
     ]
    }
   ],
   "source": [
    "simple_seq_mdl = Sequential()\n",
    "\n",
    "simple_seq_mdl.add(\n",
    "    layers.Dense(10, input_shape=(3000,), \n",
    "    activation=\"relu\")\n",
    ")\n",
    "# Add an output layer of 10 to represent the ten possible classes that could come from the model\n",
    "simple_seq_mdl.add(layers.Dense(10))\n",
    "\n",
    "simple_seq_mdl.summary()"
   ]
  }
 ],
 "metadata": {
  "interpreter": {
   "hash": "fb22a67fc011bef5ce6b7f6ec63c19257b1b7260f2de8189a58d53d29a3f5422"
  },
  "kernelspec": {
   "display_name": "Python 3.9.7 ('env-sound')",
   "language": "python",
   "name": "python3"
  },
  "language_info": {
   "codemirror_mode": {
    "name": "ipython",
    "version": 3
   },
   "file_extension": ".py",
   "mimetype": "text/x-python",
   "name": "python",
   "nbconvert_exporter": "python",
   "pygments_lexer": "ipython3",
   "version": "3.8.12"
  },
  "orig_nbformat": 4
 },
 "nbformat": 4,
 "nbformat_minor": 2
}
