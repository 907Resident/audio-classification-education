{
 "cells": [
  {
   "cell_type": "markdown",
   "metadata": {},
   "source": [
    "# Audio Classification\n",
    "\n",
    "This notebook serves as an exmaple of how to conduct an end to end audio classification model."
   ]
  },
  {
   "cell_type": "code",
   "execution_count": 66,
   "metadata": {},
   "outputs": [
    {
     "ename": "ImportError",
     "evalue": "cannot import name 'Dense' from 'tensorflow.keras' (/Users/moyoajayi/miniforge3/envs/env-tf/lib/python3.8/site-packages/tensorflow/python/keras/api/_v2/keras/__init__.py)",
     "output_type": "error",
     "traceback": [
      "\u001b[0;31m---------------------------------------------------------------------------\u001b[0m",
      "\u001b[0;31mImportError\u001b[0m                               Traceback (most recent call last)",
      "\u001b[1;32m/Users/moyoajayi/Documents/audio-classification-education/src/audio_digit_classification.ipynb Cell 2'\u001b[0m in \u001b[0;36m<module>\u001b[0;34m\u001b[0m\n\u001b[1;32m     <a href='vscode-notebook-cell:/Users/moyoajayi/Documents/audio-classification-education/src/audio_digit_classification.ipynb#ch0000001?line=12'>13</a>\u001b[0m \u001b[39mimport\u001b[39;00m \u001b[39mnumpy\u001b[39;00m \u001b[39mas\u001b[39;00m \u001b[39mnp\u001b[39;00m\n\u001b[1;32m     <a href='vscode-notebook-cell:/Users/moyoajayi/Documents/audio-classification-education/src/audio_digit_classification.ipynb#ch0000001?line=14'>15</a>\u001b[0m \u001b[39mfrom\u001b[39;00m \u001b[39mwandb\u001b[39;00m\u001b[39m.\u001b[39;00m\u001b[39mkeras\u001b[39;00m \u001b[39mimport\u001b[39;00m WandbCallback\n\u001b[0;32m---> <a href='vscode-notebook-cell:/Users/moyoajayi/Documents/audio-classification-education/src/audio_digit_classification.ipynb#ch0000001?line=15'>16</a>\u001b[0m \u001b[39mfrom\u001b[39;00m \u001b[39mtensorflow\u001b[39;00m\u001b[39m.\u001b[39;00m\u001b[39mkeras\u001b[39;00m \u001b[39mimport\u001b[39;00m layers, models, Sequential, Dense\n\u001b[1;32m     <a href='vscode-notebook-cell:/Users/moyoajayi/Documents/audio-classification-education/src/audio_digit_classification.ipynb#ch0000001?line=16'>17</a>\u001b[0m \u001b[39mfrom\u001b[39;00m \u001b[39mIPython\u001b[39;00m\u001b[39m.\u001b[39;00m\u001b[39mdisplay\u001b[39;00m \u001b[39mimport\u001b[39;00m display, Audio\n\u001b[1;32m     <a href='vscode-notebook-cell:/Users/moyoajayi/Documents/audio-classification-education/src/audio_digit_classification.ipynb#ch0000001?line=17'>18</a>\u001b[0m \u001b[39mfrom\u001b[39;00m \u001b[39mipywidgets\u001b[39;00m \u001b[39mimport\u001b[39;00m interactive\n",
      "\u001b[0;31mImportError\u001b[0m: cannot import name 'Dense' from 'tensorflow.keras' (/Users/moyoajayi/miniforge3/envs/env-tf/lib/python3.8/site-packages/tensorflow/python/keras/api/_v2/keras/__init__.py)"
     ]
    }
   ],
   "source": [
    "# Import Necessary Modules\n",
    "\n",
    "import os\n",
    "import hub\n",
    "import wave\n",
    "import wandb\n",
    "import pathlib\n",
    "\n",
    "import matplotlib.pyplot as plt \n",
    "import tensorflow as tf\n",
    "import seaborn as sns\n",
    "import pandas as pd\n",
    "import numpy as np\n",
    "\n",
    "from wandb.keras import WandbCallback\n",
    "from tensorflow.keras import models, Sequential, layers\n",
    "from IPython.display import display, Audio\n",
    "from ipywidgets import interactive\n",
    "\n",
    "seed = 0\n",
    "\n",
    "tf.random.set_seed(seed)\n",
    "np.random.seed(seed)\n",
    "\n",
    "# Preview version of Tensorflow\n",
    "print(\"This notebook is using {} version of Tensorflow\".format(tf.__version__))\n"
   ]
  },
  {
   "cell_type": "markdown",
   "metadata": {},
   "source": [
    "## Acquire Data\n",
    "\n",
    "For this classification project the data that will be used is sourced from the [Free Spoken Digit Data set (FSSD)](https://github.com/Jakobovski/free-spoken-digit-dataset). This data set provides the user with 3,000 recordings from six different speakers."
   ]
  },
  {
   "cell_type": "code",
   "execution_count": 53,
   "metadata": {},
   "outputs": [
    {
     "name": "stdout",
     "output_type": "stream",
     "text": [
      "Opening dataset in read-only mode as you don't have write permissions.\n",
      "hub://activeloop/spoken_mnist loaded successfully.\n"
     ]
    },
    {
     "name": "stderr",
     "output_type": "stream",
     "text": [
      "/Users/moyoajayi/miniforge3/envs/env-tf/lib/python3.8/site-packages/hub/core/fast_forwarding.py:44: UserWarning: Loading a dataset that was created with a newer version of hub. This could lead to corruption or weird errors! Dataset version: 2.2.4, current hub version: 2.2.3. It's recommended that you update to a version of hub >= 2.2.4.\n",
      "  warnings.warn(\n"
     ]
    },
    {
     "name": "stdout",
     "output_type": "stream",
     "text": [
      "This dataset can be visualized at https://app.activeloop.ai/activeloop/spoken_mnist.\n"
     ]
    }
   ],
   "source": [
    "# Obtain the data using the hub module\n",
    "\n",
    "ds = hub.load(\"hub://activeloop/spoken_mnist\")"
   ]
  },
  {
   "cell_type": "markdown",
   "metadata": {},
   "source": [
    "Based on the description of the data by the source [repository](https://github.com/Jakobovski/free-spoken-digit-dataset#usage), the first five recordings by each speaker (0-4) are to be considered the test set and the remaining recordings per speaker (5-49) should be considered the training set."
   ]
  },
  {
   "cell_type": "code",
   "execution_count": null,
   "metadata": {},
   "outputs": [],
   "source": []
  },
  {
   "cell_type": "markdown",
   "metadata": {},
   "source": [
    "## EDA\n",
    "\n",
    "Explore the data set retrieved from the previous step. To begin, let's examine the tensors belonging to the downloaded dataset, specifically, the name of each tensor. "
   ]
  },
  {
   "cell_type": "code",
   "execution_count": 54,
   "metadata": {},
   "outputs": [
    {
     "data": {
      "text/plain": [
       "dict_keys(['spectrograms', 'labels', 'audio', 'speakers'])"
      ]
     },
     "execution_count": 54,
     "metadata": {},
     "output_type": "execute_result"
    }
   ],
   "source": [
    "ds.tensors.keys()"
   ]
  },
  {
   "cell_type": "markdown",
   "metadata": {},
   "source": [
    "The execution of the preivous cell highlights four categories:\n",
    "1. `spectrograms`: visual repreentations of the frequency, amplitude, and length of time for the recorded sound.\n",
    "2. `labels`: These are labels that tell the user which number was spoken (e.g. \"0\", \"3\"). These numbers are recorded within arrays\n",
    "3. `audio`: The audio for each of the spoken numbers is reorded in this tensor\n",
    "4. `speakers`: A string that indicates the first name of the speaker"
   ]
  },
  {
   "cell_type": "code",
   "execution_count": 81,
   "metadata": {},
   "outputs": [
    {
     "data": {
      "text/plain": [
       "array(['george'], dtype='<U6')"
      ]
     },
     "execution_count": 81,
     "metadata": {},
     "output_type": "execute_result"
    }
   ],
   "source": [
    "ds.speakers[300].numpy()"
   ]
  },
  {
   "cell_type": "code",
   "execution_count": 82,
   "metadata": {},
   "outputs": [
    {
     "data": {
      "text/plain": [
       "array([1], dtype=uint32)"
      ]
     },
     "execution_count": 82,
     "metadata": {},
     "output_type": "execute_result"
    }
   ],
   "source": [
    "ds.labels[300].numpy()"
   ]
  },
  {
   "cell_type": "code",
   "execution_count": 61,
   "metadata": {},
   "outputs": [
    {
     "data": {
      "image/png": "[encoded data removed]",
      "text/plain": [
       "<Figure size 432x288 with 1 Axes>"
      ]
     },
     "metadata": {
      "needs_background": "light"
     },
     "output_type": "display_data"
    }
   ],
   "source": [
    "\n",
    "plt.imshow(ds.spectrograms[150])\n",
    "plt.show()"
   ]
  },
  {
   "cell_type": "markdown",
   "metadata": {},
   "source": [
    "## Play Audio from Data Set\n",
    "\n",
    "To get a feel of the audio that was actually recorded by the speakers, we can extract the sound from the `audio` tenor within the data set (`ds`). \n",
    "\n",
    "_As of 20 Feb, the widget is **not** working for an unknown reason_"
   ]
  },
  {
   "cell_type": "code",
   "execution_count": null,
   "metadata": {},
   "outputs": [
    {
     "data": {
      "application/vnd.jupyter.widget-view+json": {
       "model_id": "adfafb9f09dd4569b070f70730896632",
       "version_major": 2,
       "version_minor": 0
      },
      "text/plain": [
       "interactive(children=(FloatSlider(value=220.0, description='f1', max=300.0, min=200.0), FloatSlider(value=224.…"
      ]
     },
     "metadata": {},
     "output_type": "display_data"
    }
   ],
   "source": [
    "# Toy Function to play beats in notebook\n",
    "def beat_freq(f1=220.0, f2=224.0):\n",
    "    max_time = 5\n",
    "    rate = 8000\n",
    "    times = np.linspace(0,max_time,rate*max_time)\n",
    "    signal = np.sin(2*np.pi*f1*times) + np.sin(2*np.pi*f2*times)\n",
    "    display(Audio(data=signal, rate=rate))\n",
    "    return signal\n",
    "\n",
    "v = interactive(beat_freq, f1=(200.0,300.0), f2=(200.0,300.0))\n",
    "display(v)"
   ]
  },
  {
   "cell_type": "code",
   "execution_count": 28,
   "metadata": {},
   "outputs": [
    {
     "data": {
      "text/html": [
       "\n",
       "                <audio  controls=\"controls\" autoplay=\"autoplay\">\n",
       "                    <source src=\"data:audio/wav;base64,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\" type=\"audio/wav\" />\n",
       "                    Your browser does not support the audio element.\n",
       "                </audio>\n",
       "              "
      ],
      "text/plain": [
       "<IPython.lib.display.Audio object>"
      ]
     },
     "metadata": {},
     "output_type": "display_data"
    }
   ],
   "source": [
    "samp = \"/Users/moyoajayi/Documents/audio-classification-education/data/WATRWave_Sea waves (ID 0266)_BSB.wav\"\n",
    "sample = ds.audio[0].numpy()\n",
    "display(Audio(data=sample, rate = 8000, autoplay=True))"
   ]
  },
  {
   "cell_type": "code",
   "execution_count": 42,
   "metadata": {},
   "outputs": [
    {
     "data": {
      "text/plain": [
       "tensorflow.python.data.ops.dataset_ops.FlatMapDataset"
      ]
     },
     "execution_count": 42,
     "metadata": {},
     "output_type": "execute_result"
    }
   ],
   "source": [
    "ds_tf = ds.tensorflow()\n",
    "type(ds_tf)"
   ]
  },
  {
   "cell_type": "code",
   "execution_count": 27,
   "metadata": {},
   "outputs": [
    {
     "name": "stderr",
     "output_type": "stream",
     "text": [
      "/Users/moyoajayi/miniforge3/envs/env-tf/lib/python3.8/site-packages/hub/core/fast_forwarding.py:44: UserWarning: Loading a dataset that was created with a newer version of hub. This could lead to corruption or weird errors! Dataset version: 2.2.4, current hub version: 2.2.3. It's recommended that you update to a version of hub >= 2.2.4.\n",
      "  warnings.warn(\n",
      "2022-02-20 12:27:19.350138: I tensorflow/compiler/mlir/mlir_graph_optimization_pass.cc:116] None of the MLIR optimization passes are enabled (registered 2)\n",
      "2022-02-20 12:27:19.350301: W tensorflow/core/platform/profile_utils/cpu_utils.cc:126] Failed to get CPU frequency: 0 Hz\n"
     ]
    },
    {
     "ename": "AttributeError",
     "evalue": "'dict' object has no attribute 'audio'",
     "output_type": "error",
     "traceback": [
      "\u001b[0;31m---------------------------------------------------------------------------\u001b[0m",
      "\u001b[0;31mAttributeError\u001b[0m                            Traceback (most recent call last)",
      "\u001b[1;32m/Users/moyoajayi/Documents/audio-classification-education/src/audio_digit_classification.ipynb Cell 10'\u001b[0m in \u001b[0;36m<module>\u001b[0;34m\u001b[0m\n\u001b[1;32m      <a href='vscode-notebook-cell:/Users/moyoajayi/Documents/audio-classification-education/src/audio_digit_classification.ipynb#ch0000011?line=0'>1</a>\u001b[0m count \u001b[39m=\u001b[39m \u001b[39m0\u001b[39m\n\u001b[1;32m      <a href='vscode-notebook-cell:/Users/moyoajayi/Documents/audio-classification-education/src/audio_digit_classification.ipynb#ch0000011?line=1'>2</a>\u001b[0m \u001b[39mfor\u001b[39;00m tensor \u001b[39min\u001b[39;00m ds\u001b[39m.\u001b[39mtensorflow(): \n\u001b[0;32m----> <a href='vscode-notebook-cell:/Users/moyoajayi/Documents/audio-classification-education/src/audio_digit_classification.ipynb#ch0000011?line=2'>3</a>\u001b[0m     \u001b[39mprint\u001b[39m(tensor\u001b[39m.\u001b[39;49maudio\u001b[39m.\u001b[39mdata())\n\u001b[1;32m      <a href='vscode-notebook-cell:/Users/moyoajayi/Documents/audio-classification-education/src/audio_digit_classification.ipynb#ch0000011?line=3'>4</a>\u001b[0m     \u001b[39mif\u001b[39;00m count \u001b[39m==\u001b[39m \u001b[39m3\u001b[39m:\n\u001b[1;32m      <a href='vscode-notebook-cell:/Users/moyoajayi/Documents/audio-classification-education/src/audio_digit_classification.ipynb#ch0000011?line=4'>5</a>\u001b[0m         \u001b[39mcontinue\u001b[39;00m\n",
      "\u001b[0;31mAttributeError\u001b[0m: 'dict' object has no attribute 'audio'"
     ]
    }
   ],
   "source": [
    "count = 0\n",
    "for tensor in ds.tensorflow(): \n",
    "    print(tensor.audio.data())\n",
    "    if count == 3:\n",
    "        continue\n",
    "    count = count + 1"
   ]
  },
  {
   "cell_type": "markdown",
   "metadata": {},
   "source": [
    "## Build Tensorflow Model"
   ]
  },
  {
   "cell_type": "code",
   "execution_count": 65,
   "metadata": {},
   "outputs": [
    {
     "data": {
      "text/plain": [
       "tensorflow.python.data.ops.dataset_ops.FlatMapDataset"
      ]
     },
     "execution_count": 65,
     "metadata": {},
     "output_type": "execute_result"
    }
   ],
   "source": [
    "# Convert the dataset to a tenforflow dataset object\n",
    "\n",
    "df_tf = ds.tensorflow()\n",
    "type(df_tf)\n",
    "# print(\"The data set downloaded from hub has be converted to a tensorflow dataset\")"
   ]
  },
  {
   "cell_type": "code",
   "execution_count": 68,
   "metadata": {},
   "outputs": [
    {
     "name": "stdout",
     "output_type": "stream",
     "text": [
      "Model: \"sequential_1\"\n",
      "_________________________________________________________________\n",
      "Layer (type)                 Output Shape              Param #   \n",
      "=================================================================\n",
      "dense_2 (Dense)              (None, 10)                30010     \n",
      "_________________________________________________________________\n",
      "dense_3 (Dense)              (None, 10)                110       \n",
      "=================================================================\n",
      "Total params: 30,120\n",
      "Trainable params: 30,120\n",
      "Non-trainable params: 0\n",
      "_________________________________________________________________\n"
     ]
    }
   ],
   "source": [
    "simple_seq_mdl = Sequential()\n",
    "\n",
    "simple_seq_mdl.add(\n",
    "    layers.Dense(10, input_shape=(3000,), \n",
    "    activation=\"relu\")\n",
    ")\n",
    "# Add an output layer of 10 to represent the ten possible classes that could come from the model\n",
    "simple_seq_mdl.add(layers.Dense(10))\n",
    "\n",
    "simple_seq_mdl.summary()"
   ]
  }
 ],
 "metadata": {
  "interpreter": {
   "hash": "fb22a67fc011bef5ce6b7f6ec63c19257b1b7260f2de8189a58d53d29a3f5422"
  },
  "kernelspec": {
   "display_name": "Python 3.9.7 ('env-sound')",
   "language": "python",
   "name": "python3"
  },
  "language_info": {
   "codemirror_mode": {
    "name": "ipython",
    "version": 3
   },
   "file_extension": ".py",
   "mimetype": "text/x-python",
   "name": "python",
   "nbconvert_exporter": "python",
   "pygments_lexer": "ipython3",
   "version": "3.8.12"
  },
  "orig_nbformat": 4
 },
 "nbformat": 4,
 "nbformat_minor": 2
}
